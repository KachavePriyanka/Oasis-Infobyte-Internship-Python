{
 "cells": [
  {
   "cell_type": "code",
   "execution_count": 15,
   "id": "aa8a5b95-562b-48ec-9553-a9c5391ead69",
   "metadata": {},
   "outputs": [
    {
     "name": "stdout",
     "output_type": "stream",
     "text": [
      "Welcome to the Random Password Generator!\n"
     ]
    },
    {
     "name": "stdin",
     "output_type": "stream",
     "text": [
      "Enter the desired password length:  5\n",
      "Include lowercase letters? (yes/no):  yes\n",
      "Include uppercase letters? (yes/no):  no\n",
      "Include numbers? (yes/no):  yes\n",
      "Include symbols? (yes/no):  no\n"
     ]
    },
    {
     "name": "stdout",
     "output_type": "stream",
     "text": [
      "Generated password: zw7cd\n"
     ]
    }
   ],
   "source": [
    "import random\n",
    "import string\n",
    "\n",
    "def generate_password(length, use_lowercase, use_uppercase, use_numbers, use_symbols):\n",
    "    character_set = ''\n",
    "    if use_lowercase:\n",
    "        character_set += string.ascii_lowercase\n",
    "    if use_uppercase:\n",
    "        character_set += string.ascii_uppercase\n",
    "    if use_numbers:\n",
    "        character_set += string.digits\n",
    "    if use_symbols:\n",
    "        character_set += string.punctuation\n",
    "\n",
    "    if not character_set:\n",
    "        raise ValueError(\"No character types selected\")\n",
    "\n",
    "    password = ''.join(random.choice(character_set) for _ in range(length))\n",
    "    return password\n",
    "\n",
    "def main():\n",
    "    print(\"Welcome to the Random Password Generator!!!\")\n",
    "    \n",
    "    length = int(input(\"Enter the desired password length: \"))\n",
    "    use_lowercase = input(\"Include lowercase letters? (yes/no): \").lower() == 'yes'\n",
    "    use_uppercase = input(\"Include uppercase letters? (yes/no): \").lower() == 'yes'\n",
    "    use_numbers = input(\"Include numbers? (yes/no): \").lower() == 'yes'\n",
    "    use_symbols = input(\"Include symbols? (yes/no): \").lower() == 'yes'\n",
    "\n",
    "    try:\n",
    "        password = generate_password(length, use_lowercase, use_uppercase, use_numbers, use_symbols)\n",
    "        print(f\"Generated password: {password}\")\n",
    "    except ValueError as e:\n",
    "        print(e)\n",
    "\n",
    "if __name__ == \"__main__\":\n",
    "    main()\n"
   ]
  },
  {
   "cell_type": "code",
   "execution_count": null,
   "id": "fa9d508a-9bfe-4fb3-83e4-c15b67dd1826",
   "metadata": {},
   "outputs": [],
   "source": []
  }
 ],
 "metadata": {
  "kernelspec": {
   "display_name": "Python 3 (ipykernel)",
   "language": "python",
   "name": "python3"
  },
  "language_info": {
   "codemirror_mode": {
    "name": "ipython",
    "version": 3
   },
   "file_extension": ".py",
   "mimetype": "text/x-python",
   "name": "python",
   "nbconvert_exporter": "python",
   "pygments_lexer": "ipython3",
   "version": "3.11.7"
  }
 },
 "nbformat": 4,
 "nbformat_minor": 5
}

{
 "cells": [
  {
   "cell_type": "code",
   "execution_count": 14,
   "id": "188e2225-847a-467d-b025-e4d51ac57002",
   "metadata": {},
   "outputs": [
    {
     "name": "stdout",
     "output_type": "stream",
     "text": [
      "Welcome to the BMI Calculator!!!\n"
     ]
    },
    {
     "name": "stdin",
     "output_type": "stream",
     "text": [
      "Enter your weight in kilograms:  56\n"
     ]
    },
    {
     "name": "stdout",
     "output_type": "stream",
     "text": [
      "Enter your height: \n"
     ]
    },
    {
     "name": "stdin",
     "output_type": "stream",
     "text": [
      "Enter Feet:  5\n",
      "Enter inches:  4\n"
     ]
    },
    {
     "name": "stdout",
     "output_type": "stream",
     "text": [
      "Your BMI is 21.19\n",
      "BMI Category is  Normal weight\n"
     ]
    }
   ],
   "source": [
    "def convert_feet_inches_to_meters(feet,inches):\n",
    "    return (feet*0.3048)+(inches*0.0254)\n",
    "    \n",
    "def calculate_bmi(weight, height):\n",
    "    return weight / (height ** 2)\n",
    "\n",
    "def get_bmi_category(bmi):\n",
    "    if bmi < 18.5:\n",
    "        return \"Underweight\"\n",
    "    elif 18.5 <= bmi < 24.9:\n",
    "        return \"Normal weight\"\n",
    "    elif 25 <= bmi < 29.9:\n",
    "        return \"Overweight\"\n",
    "    else:\n",
    "        return \"Obesity\"\n",
    "\n",
    "def main():\n",
    "    print(\"Welcome to the BMI Calculator!!!\")\n",
    "    weight=float(input(\"Enter your weight in kilograms: \"))\n",
    "    print(\"Enter your height: \")\n",
    "    feet=int(input(\"Enter Feet: \"))\n",
    "    inches=int(input(\"Enter inches: \"))\n",
    "\n",
    "    height=convert_feet_inches_to_meters(feet,inches)\n",
    "\n",
    "    bmi = calculate_bmi(weight, height)\n",
    "    category = get_bmi_category(bmi)\n",
    "    \n",
    "    print(f\"Your BMI is {bmi:.2f}\")\n",
    "    print(f\"BMI Category is  {category}\")\n",
    "    \n",
    "if __name__==\"__main__\" :\n",
    "    main() "
   ]
  },
  {
   "cell_type": "code",
   "execution_count": null,
   "id": "2a26e75c-ea16-4655-874c-49ca6dcc93b0",
   "metadata": {},
   "outputs": [],
   "source": []
  }
 ],
 "metadata": {
  "kernelspec": {
   "display_name": "Python 3 (ipykernel)",
   "language": "python",
   "name": "python3"
  },
  "language_info": {
   "codemirror_mode": {
    "name": "ipython",
    "version": 3
   },
   "file_extension": ".py",
   "mimetype": "text/x-python",
   "name": "python",
   "nbconvert_exporter": "python",
   "pygments_lexer": "ipython3",
   "version": "3.11.7"
  }
 },
 "nbformat": 4,
 "nbformat_minor": 5
}
